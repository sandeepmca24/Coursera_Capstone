{
 "cells": [
  {
   "cell_type": "code",
   "execution_count": 1,
   "metadata": {},
   "outputs": [],
   "source": [
    "from bs4 import BeautifulSoup\n",
    "import requests\n",
    "url = \"https://en.wikipedia.org/wiki/List_of_postal_codes_of_Canada:_M\"\n",
    "response = requests.get(url)\n",
    "data = response.text\n",
    "soup = BeautifulSoup(data, 'lxml')\n",
    "My_table = soup.find('table',{'class':'wikitable sortable'})"
   ]
  },
  {
   "cell_type": "markdown",
   "metadata": {},
   "source": [
    "## To create the above dataframe:\n",
    "\n",
    "3. The dataframe will consist of three columns: PostalCode, Borough, and Neighborhood\n",
    "Only process the cells that have an assigned borough. Ignore cells with a borough that is Not assigned.\n",
    "More than one neighborhood can exist in one postal code area. For example, in the table on the Wikipedia page, you will notice that M5A is listed twice and has two neighborhoods: Harbourfront and Regent Park. These two rows will be combined into one row with the neighborhoods separated with a comma as shown in row 11 in the above table.\n"
   ]
  },
  {
   "cell_type": "code",
   "execution_count": 2,
   "metadata": {},
   "outputs": [],
   "source": [
    "import pandas as pd\n",
    "pd.set_option('display.max_columns', None)\n",
    "pd.set_option('display.max_rows', None)\n",
    "column_names = ['PostalCode', 'Borough', 'Neighborhood']\n",
    "rows_list = []\n",
    "for tr in My_table.findAll('tr'):\n",
    "    tds = tr.findAll('td')\n",
    "    if not tds:\n",
    "        continue\n",
    "    postcode, borough, neighborhood = [td.text.strip() for td in tds[:3]]\n",
    "    rows_list.append([postcode, borough, neighborhood])\n",
    "postalcodes = pd.DataFrame(rows_list, columns=column_names)"
   ]
  },
  {
   "cell_type": "markdown",
   "metadata": {},
   "source": [
    "If a cell has a borough but a Not assigned neighborhood, then the neighborhood will be the same as the borough. So for the 9th cell in the table on the Wikipedia page, the value of the Borough and the Neighborhood columns will be Queen's Park.\n",
    "Clean your Notebook and add Markdown cells to explain your work and any assumptions you are making.\n",
    "In the last cell of your notebook, use the .shape method to print the number of rows of your dataframe."
   ]
  },
  {
   "cell_type": "code",
   "execution_count": 3,
   "metadata": {},
   "outputs": [],
   "source": [
    "indexNames = postalcodes[postalcodes['Borough'] == 'Not assigned'].index\n",
    "postalcodes.drop(indexNames, inplace=True)\n",
    "postalcodes = postalcodes.reset_index()\n",
    "del postalcodes['index']\n",
    "postalcodes.loc[postalcodes['Neighborhood'] == ('Not assigned'), 'Neighborhood'] = postalcodes['Borough']\n",
    "postalcodes_group = postalcodes.groupby(['PostalCode', 'Borough'], sort=False).agg(lambda x: ', '.join(x))\n",
    "postalcodes_group = postalcodes_group.reset_index()"
   ]
  },
  {
   "cell_type": "code",
   "execution_count": 4,
   "metadata": {},
   "outputs": [],
   "source": [
    "number_of_rows = postalcodes_group.shape[0]"
   ]
  },
  {
   "cell_type": "code",
   "execution_count": 5,
   "metadata": {},
   "outputs": [],
   "source": [
    "## Use the Geocoder package or the csv file to create the following dataframe:"
   ]
  },
  {
   "cell_type": "code",
   "execution_count": 6,
   "metadata": {},
   "outputs": [],
   "source": [
    "import pandas as pd\n",
    "coordinates_df = pd.read_csv('http://cocl.us/Geospatial_data')\n"
   ]
  },
  {
   "cell_type": "code",
   "execution_count": 7,
   "metadata": {},
   "outputs": [],
   "source": [
    "\n",
    "coordinates_df.rename(columns={'Postal Code':'PostalCode'}, inplace=True)\n"
   ]
  },
  {
   "cell_type": "code",
   "execution_count": 8,
   "metadata": {},
   "outputs": [],
   "source": [
    "merged_dataframe = pd.merge(postalcodes_group, coordinates_df, how='left', on='PostalCode')\n"
   ]
  },
  {
   "cell_type": "code",
   "execution_count": null,
   "metadata": {},
   "outputs": [],
   "source": [
    "merged_dataframe_Toronto = merged_dataframe[merged_dataframe['Borough'].str.contains(\"Toronto\")]\n",
    "merged_dataframe_Toronto = merged_dataframe_Toronto.reset_index()\n",
    "del merged_dataframe_Toronto['index']\n",
    "merged_dataframe_Toronto.head()"
   ]
  },
  {
   "cell_type": "code",
   "execution_count": 27,
   "metadata": {},
   "outputs": [
    {
     "data": {
      "text/html": [
       "<div>\n",
       "<style scoped>\n",
       "    .dataframe tbody tr th:only-of-type {\n",
       "        vertical-align: middle;\n",
       "    }\n",
       "\n",
       "    .dataframe tbody tr th {\n",
       "        vertical-align: top;\n",
       "    }\n",
       "\n",
       "    .dataframe thead th {\n",
       "        text-align: right;\n",
       "    }\n",
       "</style>\n",
       "<table border=\"1\" class=\"dataframe\">\n",
       "  <thead>\n",
       "    <tr style=\"text-align: right;\">\n",
       "      <th></th>\n",
       "      <th>PostalCode</th>\n",
       "      <th>Borough</th>\n",
       "      <th>Neighborhood</th>\n",
       "      <th>Latitude</th>\n",
       "      <th>Longitude</th>\n",
       "    </tr>\n",
       "  </thead>\n",
       "  <tbody>\n",
       "    <tr>\n",
       "      <th>0</th>\n",
       "      <td>M5A</td>\n",
       "      <td>Downtown Toronto</td>\n",
       "      <td>Harbourfront</td>\n",
       "      <td>43.654260</td>\n",
       "      <td>-79.360636</td>\n",
       "    </tr>\n",
       "    <tr>\n",
       "      <th>1</th>\n",
       "      <td>M7A</td>\n",
       "      <td>Downtown Toronto</td>\n",
       "      <td>Queen's Park</td>\n",
       "      <td>43.662301</td>\n",
       "      <td>-79.389494</td>\n",
       "    </tr>\n",
       "    <tr>\n",
       "      <th>2</th>\n",
       "      <td>M5B</td>\n",
       "      <td>Downtown Toronto</td>\n",
       "      <td>Ryerson, Garden District</td>\n",
       "      <td>43.657162</td>\n",
       "      <td>-79.378937</td>\n",
       "    </tr>\n",
       "    <tr>\n",
       "      <th>3</th>\n",
       "      <td>M5C</td>\n",
       "      <td>Downtown Toronto</td>\n",
       "      <td>St. James Town</td>\n",
       "      <td>43.651494</td>\n",
       "      <td>-79.375418</td>\n",
       "    </tr>\n",
       "    <tr>\n",
       "      <th>4</th>\n",
       "      <td>M4E</td>\n",
       "      <td>East Toronto</td>\n",
       "      <td>The Beaches</td>\n",
       "      <td>43.676357</td>\n",
       "      <td>-79.293031</td>\n",
       "    </tr>\n",
       "  </tbody>\n",
       "</table>\n",
       "</div>"
      ],
      "text/plain": [
       "  PostalCode           Borough              Neighborhood   Latitude  Longitude\n",
       "0        M5A  Downtown Toronto              Harbourfront  43.654260 -79.360636\n",
       "1        M7A  Downtown Toronto              Queen's Park  43.662301 -79.389494\n",
       "2        M5B  Downtown Toronto  Ryerson, Garden District  43.657162 -79.378937\n",
       "3        M5C  Downtown Toronto            St. James Town  43.651494 -79.375418\n",
       "4        M4E      East Toronto               The Beaches  43.676357 -79.293031"
      ]
     },
     "execution_count": 27,
     "metadata": {},
     "output_type": "execute_result"
    }
   ],
   "source": [
    "merged_dataframe_Toronto.shape\n",
    "dfToronto = merged_dataframe_Toronto\n",
    "dfToronto.head()"
   ]
  },
  {
   "cell_type": "markdown",
   "metadata": {},
   "source": [
    "## Explore and cluster the neighborhoods in Toronto. You can decide to work with only boroughs that contain the word Toronto and then replicate the same analysis we did to the New York City data. It is up to you.\n",
    "\n",
    "to add enough Markdown cells to explain what you decided to do and to report any observations you make.\n",
    "to generate maps to visualize your neighborhoods and how they cluster together.\n",
    "Once you are happy with your analysis, submit a link to the new Notebook on your Github repository."
   ]
  },
  {
   "cell_type": "code",
   "execution_count": 16,
   "metadata": {},
   "outputs": [
    {
     "name": "stdout",
     "output_type": "stream",
     "text": [
      "The geograpical coordinate of Toronto are 43.653963, -79.387207.\n"
     ]
    }
   ],
   "source": [
    "from geopy.geocoders import Nominatim\n",
    "address = 'Toronto, ON'\n",
    "geolocator = Nominatim(user_agent=\"toronto_explorer\")\n",
    "location = geolocator.geocode(address)\n",
    "latitude = location.latitude\n",
    "longitude = location.longitude\n",
    "print('The geograpical coordinate of Toronto are {}, {}.'.format(latitude, longitude))"
   ]
  },
  {
   "cell_type": "code",
   "execution_count": 23,
   "metadata": {},
   "outputs": [
    {
     "name": "stdout",
     "output_type": "stream",
     "text": [
      "Solving environment: done\n",
      "\n",
      "# All requested packages already installed.\n",
      "\n"
     ]
    }
   ],
   "source": [
    "!conda install -c conda-forge folium=0.5.0 --yes\n",
    "import folium\n",
    "map_toronto = folium.Map(location=[latitude, longitude], zoom_start=10)\n"
   ]
  },
  {
   "cell_type": "code",
   "execution_count": null,
   "metadata": {
    "scrolled": true
   },
   "outputs": [],
   "source": []
  },
  {
   "cell_type": "code",
   "execution_count": 28,
   "metadata": {},
   "outputs": [
    {
     "data": {
      "text/html": [
       "<div style=\"width:100%;\"><div style=\"position:relative;width:100%;height:0;padding-bottom:60%;\"><iframe src=\"data:text/html;charset=utf-8;base64,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\" style=\"position:absolute;width:100%;height:100%;left:0;top:0;border:none !important;\" allowfullscreen webkitallowfullscreen mozallowfullscreen></iframe></div></div>"
      ],
      "text/plain": [
       "<folium.folium.Map at 0x7f3f7c58a9b0>"
      ]
     },
     "execution_count": 28,
     "metadata": {},
     "output_type": "execute_result"
    }
   ],
   "source": [
    "for lat, lng, postalcode, borough, neighborhood in zip(dfToronto['Latitude'], dfToronto['Longitude'], dfToronto['PostalCode'], dfToronto['Borough'], dfToronto['Neighborhood']):\n",
    "    label = '{}, {}, {}'.format(postalcode, borough, neighborhood)\n",
    "    label = folium.Popup(label, parse_html=True)\n",
    "    folium.CircleMarker(\n",
    "        [lat, lng],\n",
    "        radius=5,\n",
    "        popup=label,\n",
    "        color='blue',\n",
    "        fill=True,\n",
    "        fill_color='#3186cc',\n",
    "        fill_opacity=0.7,\n",
    "        parse_html=False).add_to(map_toronto)  \n",
    "map_toronto"
   ]
  },
  {
   "cell_type": "code",
   "execution_count": null,
   "metadata": {},
   "outputs": [],
   "source": []
  }
 ],
 "metadata": {
  "anaconda-cloud": {},
  "kernelspec": {
   "display_name": "Python 3.6",
   "language": "python",
   "name": "python3"
  },
  "language_info": {
   "codemirror_mode": {
    "name": "ipython",
    "version": 3
   },
   "file_extension": ".py",
   "mimetype": "text/x-python",
   "name": "python",
   "nbconvert_exporter": "python",
   "pygments_lexer": "ipython3",
   "version": "3.6.9"
  }
 },
 "nbformat": 4,
 "nbformat_minor": 2
}

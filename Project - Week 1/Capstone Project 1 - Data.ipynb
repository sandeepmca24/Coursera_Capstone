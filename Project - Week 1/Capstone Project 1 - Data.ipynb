{
 "cells": [
  {
   "cell_type": "markdown",
   "metadata": {},
   "source": [
    "<a><img src=\"https://ibm.box.com/shared/static/ugcqz6ohbvff804xp84y4kqnvvk3bq1g.png\" width=\"200\" align=\"center\"></a>"
   ]
  },
  {
   "cell_type": "markdown",
   "metadata": {},
   "source": [
    "<h1>Capstone Project: The Battle of Neighborhoods (Week1) </h1>\n",
    "<h2>C. Data for Which Problem will be solved</h2>\n"
   ]
  },
  {
   "cell_type": "markdown",
   "metadata": {},
   "source": [
    "<h2>C.1. Explore and cluster the neighborhoods in Toronto </h2> \n",
    "<p>\n",
    "Explore and cluster the neighborhoods in Toronto. You can decide to work with only boroughs that contain the word Toronto and then replicate the same analysis we did to the New York City data.\n",
    "</p>"
   ]
  },
  {
   "cell_type": "markdown",
   "metadata": {},
   "source": [
    "<h3 id=\"Section_4\">Analyzing Crime Data</h3>\n",
    "Therefore, stakeholders require some advice on where to settle and launch their new businesses. Experience from local residents is always useful, but it is interesting to also rely on data to take a final decision.\n",
    "\n",
    "This project will be targeted to new investors trying to find an optimal location for a new Pub\n",
    "<h3 id=\"Section_4\">Identifying neighborhood</h3>\n",
    "Harbourfront\n",
    "Queen's Park\n",
    "Ryerson, Garden District\n",
    "St. James Town\n",
    "The Beaches\n",
    "Berczy Park\n",
    "Central Bay Street\n",
    "Christie\n",
    "Adelaide, King, Richmond\n",
    "Dovercourt Village, Dufferin\n",
    "Harbourfront East, Toronto Islands, Union Station\n",
    "Little Portugal, Trinity\n",
    "The Danforth West, Riverdale\n",
    "Design Exchange, Toronto Dominion Centre\n",
    "Brockton, Exhibition Place, Parkdale Village\n",
    "The Beaches West, India Bazaar\n",
    "Commerce Court, Victoria Hotel\n",
    "Studio District\n",
    "Lawrence Park\n",
    "Roselawn\n",
    "Davisville North\n",
    "Forest Hill North, Forest Hill West\n",
    "High Park, The Junction South\n",
    "North Toronto West\n",
    "The Annex, North Midtown, Yorkville\n",
    "Parkdale, Roncesvalles\n",
    "Davisville\n",
    "Harbord, University of Toronto\n",
    "Runnymede, Swansea\n",
    "Moore Park, Summerhill East\n",
    "Chinatown, Grange Park, Kensington Market\n",
    "Deer Park, Forest Hill SE, Rathnelly, South Hill, Summerhill West\n",
    "CN Tower, Bathurst Quay, Island airport, Harbourfront West, King and Spadina, Railway Lands, South Niagara\n",
    "Rosedale\n",
    "Stn A PO Boxes 25 The Esplanade\n",
    "Cabbagetown, St. James Town\n",
    "First Canadian Place, Underground city\n",
    "Church and Wellesley\n",
    "Business Reply Mail Processing Centre 969 Eastern\n",
    "\n",
    "<h3 id=\"Section_4\">Common Venues</h3>\n",
    "For Example 1st Most Common VenueCoffee Shop\tCafé 2nd Most Common Venue\tSteakhouse\t\t3rd Most Common Venue\tGastropub\t4th Most Common Venue\tHotel\t5th Most Common Venue Restaurant and Theater , Cosmetics Shop or Gym"
   ]
  },
  {
   "cell_type": "markdown",
   "metadata": {},
   "source": [
    "<p>Therefore, stakeholders require some advice on where to settle and launch their new businesses. Experience from local residents is always useful, but it is interesting to also rely on data to take a final decision.\n",
    "\n",
    "</p>\n",
    "\n",
    "<p><img height=\"440\" width=\"700\" src=\"https://encrypted-tbn0.gstatic.com/images?q=tbn%3AANd9GcS1g52abpjGJFd_L5MturCGPpHoHkTDK5Qet7LKu2P4sWWmhSsl\" alt=\"share notebook\" /></p>\n",
    "<p></p>\n",
    "\n"
   ]
  },
  {
   "cell_type": "markdown",
   "metadata": {},
   "source": [
    "\n"
   ]
  }
 ],
 "metadata": {
  "kernelspec": {
   "display_name": "Python 3.6",
   "language": "python",
   "name": "python3"
  },
  "language_info": {
   "codemirror_mode": {
    "name": "ipython",
    "version": 3
   },
   "file_extension": ".py",
   "mimetype": "text/x-python",
   "name": "python",
   "nbconvert_exporter": "python",
   "pygments_lexer": "ipython3",
   "version": "3.6.9"
  }
 },
 "nbformat": 4,
 "nbformat_minor": 2
}

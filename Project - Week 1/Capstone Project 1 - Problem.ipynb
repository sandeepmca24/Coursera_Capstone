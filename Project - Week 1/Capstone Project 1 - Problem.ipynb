{
 "cells": [
  {
   "cell_type": "markdown",
   "metadata": {},
   "source": [
    "<a><img src=\"https://ibm.box.com/shared/static/ugcqz6ohbvff804xp84y4kqnvvk3bq1g.png\" width=\"200\" align=\"center\"></a>"
   ]
  },
  {
   "cell_type": "markdown",
   "metadata": {},
   "source": [
    "<h1>Capstone Project: The Battle of Neighborhoods (Week1) </h1>\n",
    "<h2>A. Introduction</h2>\n"
   ]
  },
  {
   "cell_type": "markdown",
   "metadata": {},
   "source": [
    "<h2>A.1. Business Problem </h2> \n",
    "<p>\n",
    "In this project, I chose to explore New York City and the city of Toronto and segmented and clustered their neighborhoods. Both cities are very diverse and are the financial capitals of their respective countries. One interesting idea would be to compare the neighborhoods of the two cities and determine how similar or dissimilar they are. New York City more like Toronto or Paris or some other multicultural city because The city is divided into 62 neighborhoods in total.\n",
    "</p>"
   ]
  },
  {
   "cell_type": "markdown",
   "metadata": {},
   "source": [
    "<h3 id=\"Section_4\">Analyzing Crime Data</h3>\n",
    "\n",
    "<h3 id=\"Section_4\">Identifying neighborhood</h3>\n",
    "\n",
    "<h3 id=\"Section_4\">Common Venues</h3>\n"
   ]
  },
  {
   "cell_type": "markdown",
   "metadata": {},
   "source": [
    "\n",
    "<h2>B. Background discussion</h2>\n",
    "<p>In the last decade, Uruguay has experienced an important economic growth which lead to a significant number of new venues from all categories specially near the city's most populated neighborhoods.\n",
    "    </p>"
   ]
  },
  {
   "cell_type": "markdown",
   "metadata": {},
   "source": [
    "<p>Therefore, stakeholders require some advice on where to settle and launch their new businesses. Experience from local residents is always useful, but it is interesting to also rely on data to take a final decision.\n",
    "\n",
    "This project will be targeted to new investors trying to find an optimal location for a new Pub in Montevideo, Uruguay.</p>\n",
    "\n",
    "<p><img height=\"440\" width=\"700\" src=\"https://encrypted-tbn0.gstatic.com/images?q=tbn%3AANd9GcS1g52abpjGJFd_L5MturCGPpHoHkTDK5Qet7LKu2P4sWWmhSsl\" alt=\"share notebook\" /></p>\n",
    "<p></p>\n",
    "\n"
   ]
  },
  {
   "cell_type": "markdown",
   "metadata": {},
   "source": []
  },
  {
   "cell_type": "markdown",
   "metadata": {},
   "source": []
  },
  {
   "cell_type": "markdown",
   "metadata": {},
   "source": []
  },
  {
   "cell_type": "markdown",
   "metadata": {},
   "source": [
    "\n"
   ]
  }
 ],
 "metadata": {
  "kernelspec": {
   "display_name": "Python 3.6",
   "language": "python",
   "name": "python3"
  },
  "language_info": {
   "codemirror_mode": {
    "name": "ipython",
    "version": 3
   },
   "file_extension": ".py",
   "mimetype": "text/x-python",
   "name": "python",
   "nbconvert_exporter": "python",
   "pygments_lexer": "ipython3",
   "version": "3.6.9"
  }
 },
 "nbformat": 4,
 "nbformat_minor": 2
}
